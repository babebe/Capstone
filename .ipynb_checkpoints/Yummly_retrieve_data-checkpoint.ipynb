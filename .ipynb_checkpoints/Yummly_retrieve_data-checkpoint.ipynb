{
 "cells": [
  {
   "cell_type": "code",
   "execution_count": 14,
   "metadata": {
    "collapsed": true
   },
   "outputs": [],
   "source": [
    "from yummly import Client\n",
    "import json\n",
    "import requests\n",
    "import pandas as pd\n",
    "import numpy as np"
   ]
  },
  {
   "cell_type": "code",
   "execution_count": 44,
   "metadata": {
    "collapsed": false
   },
   "outputs": [],
   "source": [
    "TIMEOUT = 5.0\n",
    "RETRIES = 0\n",
    "headers= {'X-Yummly-App-ID':'79663a75', 'X-Yummly-App-Key':'02b233108f476f3110e0f65437c4d6dd'}\n",
    "# #client = Client(api_id='79663a75', api_key='02b233108f476f3110e0f65437c4d6dd', timeout=TIMEOUT, retries=RETRIES)\n",
    "\n",
    "# #search = client.search('green eggs and ham')\n",
    "# match = search.matches[0]\n",
    "\n",
    "# recipe = client.recipe(match.id)\n",
    "\n"
   ]
  },
  {
   "cell_type": "code",
   "execution_count": 49,
   "metadata": {
    "collapsed": false
   },
   "outputs": [],
   "source": [
    "headers= {'X-Yummly-App-ID':'79663a75', 'X-Yummly-App-Key':'02b233108f476f3110e0f65437c4d6dd'}\n",
    "url='http://api.yummly.com/v1/api/recipes?'\n",
    "parameters={'q': 'pasta',\n",
    "            'maxResult': 500}\n",
    "\n",
    "response=requests.get(url,headers=headers, params=parameters)"
   ]
  },
  {
   "cell_type": "code",
   "execution_count": 50,
   "metadata": {
    "collapsed": false
   },
   "outputs": [
    {
     "data": {
      "text/plain": [
       "200"
      ]
     },
     "execution_count": 50,
     "metadata": {},
     "output_type": "execute_result"
    }
   ],
   "source": [
    "response.status_code"
   ]
  },
  {
   "cell_type": "code",
   "execution_count": 51,
   "metadata": {
    "collapsed": false
   },
   "outputs": [
    {
     "data": {
      "text/plain": [
       "dict"
      ]
     },
     "execution_count": 51,
     "metadata": {},
     "output_type": "execute_result"
    }
   ],
   "source": [
    "chicken=response.json()\n",
    "type(chicken)\n"
   ]
  },
  {
   "cell_type": "code",
   "execution_count": 19,
   "metadata": {
    "collapsed": false
   },
   "outputs": [
    {
     "data": {
      "text/plain": [
       "[u'matches', u'totalMatchCount', u'attribution', u'facetCounts', u'criteria']"
      ]
     },
     "execution_count": 19,
     "metadata": {},
     "output_type": "execute_result"
    }
   ],
   "source": [
    "chicken.keys()"
   ]
  },
  {
   "cell_type": "code",
   "execution_count": 20,
   "metadata": {
    "collapsed": false
   },
   "outputs": [
    {
     "data": {
      "text/plain": [
       "{u'attributes': {u'course': [u'Main Dishes'], u'cuisine': [u'Kid-Friendly']},\n",
       " u'flavors': {u'bitter': 0.5,\n",
       "  u'meaty': 0.6666666666666666,\n",
       "  u'piquant': 0.0,\n",
       "  u'salty': 0.6666666666666666,\n",
       "  u'sour': 0.3333333333333333,\n",
       "  u'sweet': 0.16666666666666666},\n",
       " u'id': u'Pizza-Baked-Chicken-1706825',\n",
       " u'imageUrlsBySize': {u'90': u'https://lh3.googleusercontent.com/5OqwvMJ6X8PW6rVWsV2vW8cRQYDkNxANIAr4Rf3wDWDl-6g2wfH7iMCmCFYnJXBA8OoFBdUOQri9H5UyoKL5YUU=s90-c'},\n",
       " u'ingredients': [u'pizza sauce',\n",
       "  u'skinless chicken breasts',\n",
       "  u'olive oil',\n",
       "  u'oregano',\n",
       "  u'garlic powder',\n",
       "  u'mozzarella cheese',\n",
       "  u'pepperoni slices'],\n",
       " u'rating': 4,\n",
       " u'recipeName': u'Pizza Baked Chicken',\n",
       " u'smallImageUrls': [u'https://lh3.googleusercontent.com/gw3fhUAtYflDTtpcdR0k1fItxmHYie8Lm3occLD2WQP7VXXQqgoSg8o-IAND1d1QGUAbmwYuHYhgAuA4LzTMGw=s90'],\n",
       " u'sourceDisplayName': u'Get In My Belly',\n",
       " u'totalTimeInSeconds': 3000}"
      ]
     },
     "execution_count": 20,
     "metadata": {},
     "output_type": "execute_result"
    }
   ],
   "source": [
    "chicken['matches'][0]"
   ]
  },
  {
   "cell_type": "code",
   "execution_count": 21,
   "metadata": {
    "collapsed": false
   },
   "outputs": [],
   "source": [
    "# all column names\n",
    "chicken_matches = chicken['matches']\n",
    "\n",
    "main=['id','rating','recipeName','sourceDisplayName','totalTimeInSeconds']\n",
    "ingredients=['id', 'ingredients']\n",
    "attributes=['id', 'attributes']\n",
    "\n"
   ]
  },
  {
   "cell_type": "code",
   "execution_count": 1,
   "metadata": {
    "collapsed": false
   },
   "outputs": [
    {
     "ename": "NameError",
     "evalue": "name 'chicken_matches' is not defined",
     "output_type": "error",
     "traceback": [
      "\u001b[0;31m---------------------------------------------------------------------------\u001b[0m",
      "\u001b[0;31mNameError\u001b[0m                                 Traceback (most recent call last)",
      "\u001b[0;32m<ipython-input-1-e138cb9c3601>\u001b[0m in \u001b[0;36m<module>\u001b[0;34m()\u001b[0m\n\u001b[1;32m      5\u001b[0m \u001b[0;34m\u001b[0m\u001b[0m\n\u001b[1;32m      6\u001b[0m \u001b[0;34m\u001b[0m\u001b[0m\n\u001b[0;32m----> 7\u001b[0;31m \u001b[0;32mfor\u001b[0m \u001b[0mfood\u001b[0m \u001b[0;32min\u001b[0m \u001b[0mchicken_matches\u001b[0m\u001b[0;34m:\u001b[0m\u001b[0;34m\u001b[0m\u001b[0m\n\u001b[0m\u001b[1;32m      8\u001b[0m \u001b[0;34m\u001b[0m\u001b[0m\n\u001b[1;32m      9\u001b[0m     \u001b[0m_d1\u001b[0m \u001b[0;34m=\u001b[0m \u001b[0;34m{\u001b[0m\u001b[0;34m}\u001b[0m\u001b[0;34m\u001b[0m\u001b[0m\n",
      "\u001b[0;31mNameError\u001b[0m: name 'chicken_matches' is not defined"
     ]
    }
   ],
   "source": [
    "#x[0]-dictionary of one recipe\n",
    "main_list = []\n",
    "ingredients_list = []\n",
    "attributes_list = []\n",
    "\n",
    "\n",
    "for food in chicken_matches:\n",
    "\n",
    "    _d1 = {}\n",
    "    _d1['id'] = food['id']\n",
    "    _d1['rating'] = food['rating']\n",
    "    _d1['recipeName'] = food['recipeName']\n",
    "    _d1['sourceDisplayName'] = food['sourceDisplayName']\n",
    "    _d1['totalTimeInSeconds'] = food['totalTimeInSeconds'] \n",
    "    main_list.append(_d1)\n",
    "    \n",
    "    _d2 = {}\n",
    "    _d2['id'] =food['id']\n",
    "    for i in food['ingredients']:\n",
    "        _d2[i] = 1\n",
    "    ingredients_list.append(_d2)\n",
    "\n",
    "    _d3 = {}\n",
    "    _d3['_id'] = food['id']\n",
    "    for k, v in food['attributes'].items():\n",
    "        for i in v:\n",
    "            _d3[i] = 1\n",
    "    attributes_list.append(_d3)\n",
    "    \n",
    "    _d4={}\n",
    "    _d4['id'] = food['id']\n",
    "    for k, v in food['flavors'].items():\n",
    "        for i in v:\n",
    "            _d4[i]\n",
    "from pprint import pprint\n",
    "pprint(main_list[0])\n",
    "pprint(ingredients_list[0])\n",
    "pprint(attributes_list[4])"
   ]
  },
  {
   "cell_type": "code",
   "execution_count": 42,
   "metadata": {
    "collapsed": false
   },
   "outputs": [],
   "source": [
    "#create dataframes and save as csv\n",
    "df_main =pd.DataFrame(main_list)\n",
    "df_main.to_csv('main.csv')\n",
    "df_ingredients =pd.DataFrame(ingredients_list)\n",
    "df_ingredients.to_csv('ingredients.csv', encoding ='utf-8')\n",
    "df_attributes =pd.DataFrame(attributes_list)\n",
    "df_attributes.to_csv('_attributes.csv')"
   ]
  },
  {
   "cell_type": "code",
   "execution_count": 31,
   "metadata": {
    "collapsed": false
   },
   "outputs": [
    {
     "data": {
      "text/html": [
       "<div>\n",
       "<table border=\"1\" class=\"dataframe\">\n",
       "  <thead>\n",
       "    <tr style=\"text-align: right;\">\n",
       "      <th></th>\n",
       "      <th>id</th>\n",
       "      <th>rating</th>\n",
       "      <th>recipeName</th>\n",
       "      <th>sourceDisplayName</th>\n",
       "      <th>totalTimeInSeconds</th>\n",
       "    </tr>\n",
       "  </thead>\n",
       "  <tbody>\n",
       "    <tr>\n",
       "      <th>0</th>\n",
       "      <td>Pizza-Baked-Chicken-1706825</td>\n",
       "      <td>4</td>\n",
       "      <td>Pizza Baked Chicken</td>\n",
       "      <td>Get In My Belly</td>\n",
       "      <td>3000</td>\n",
       "    </tr>\n",
       "    <tr>\n",
       "      <th>1</th>\n",
       "      <td>Parmesan-Chicken-Mini-Pies-685394</td>\n",
       "      <td>4</td>\n",
       "      <td>Parmesan Chicken Mini Pies</td>\n",
       "      <td>None</td>\n",
       "      <td>1500</td>\n",
       "    </tr>\n",
       "    <tr>\n",
       "      <th>2</th>\n",
       "      <td>Chicken-and-Avocado-Burritos-1704783</td>\n",
       "      <td>4</td>\n",
       "      <td>Chicken and Avocado Burritos</td>\n",
       "      <td>Closet Cooking</td>\n",
       "      <td>1200</td>\n",
       "    </tr>\n",
       "  </tbody>\n",
       "</table>\n",
       "</div>"
      ],
      "text/plain": [
       "                                     id  rating                    recipeName  \\\n",
       "0           Pizza-Baked-Chicken-1706825       4           Pizza Baked Chicken   \n",
       "1     Parmesan-Chicken-Mini-Pies-685394       4    Parmesan Chicken Mini Pies   \n",
       "2  Chicken-and-Avocado-Burritos-1704783       4  Chicken and Avocado Burritos   \n",
       "\n",
       "  sourceDisplayName  totalTimeInSeconds  \n",
       "0   Get In My Belly                3000  \n",
       "1              None                1500  \n",
       "2    Closet Cooking                1200  "
      ]
     },
     "execution_count": 31,
     "metadata": {},
     "output_type": "execute_result"
    }
   ],
   "source": [
    "df_main.head(3)"
   ]
  },
  {
   "cell_type": "code",
   "execution_count": null,
   "metadata": {
    "collapsed": true
   },
   "outputs": [],
   "source": []
  },
  {
   "cell_type": "code",
   "execution_count": 32,
   "metadata": {
    "collapsed": false
   },
   "outputs": [
    {
     "data": {
      "text/html": [
       "<div>\n",
       "<table border=\"1\" class=\"dataframe\">\n",
       "  <thead>\n",
       "    <tr style=\"text-align: right;\">\n",
       "      <th></th>\n",
       "      <th>Chinese rice vinegar</th>\n",
       "      <th>Pillsbury™ Refrigerated Crescent Dinner Rolls</th>\n",
       "      <th>Progresso™ Chicken Broth</th>\n",
       "      <th>Tyson® frozen popcorn chicken pieces</th>\n",
       "      <th>all-purpose flour</th>\n",
       "      <th>allspice</th>\n",
       "      <th>apple cider vinegar</th>\n",
       "      <th>avocado</th>\n",
       "      <th>bacon</th>\n",
       "      <th>barbecue sauce</th>\n",
       "      <th>...</th>\n",
       "      <th>tomato sauce</th>\n",
       "      <th>tomatoes</th>\n",
       "      <th>tortillas</th>\n",
       "      <th>unsalted butter</th>\n",
       "      <th>vegetable oil</th>\n",
       "      <th>water</th>\n",
       "      <th>white vinegar</th>\n",
       "      <th>wine</th>\n",
       "      <th>yellow summer squash</th>\n",
       "      <th>zucchini</th>\n",
       "    </tr>\n",
       "  </thead>\n",
       "  <tbody>\n",
       "    <tr>\n",
       "      <th>0</th>\n",
       "      <td>NaN</td>\n",
       "      <td>NaN</td>\n",
       "      <td>NaN</td>\n",
       "      <td>NaN</td>\n",
       "      <td>NaN</td>\n",
       "      <td>NaN</td>\n",
       "      <td>NaN</td>\n",
       "      <td>NaN</td>\n",
       "      <td>NaN</td>\n",
       "      <td>NaN</td>\n",
       "      <td>...</td>\n",
       "      <td>NaN</td>\n",
       "      <td>NaN</td>\n",
       "      <td>NaN</td>\n",
       "      <td>NaN</td>\n",
       "      <td>NaN</td>\n",
       "      <td>NaN</td>\n",
       "      <td>NaN</td>\n",
       "      <td>NaN</td>\n",
       "      <td>NaN</td>\n",
       "      <td>NaN</td>\n",
       "    </tr>\n",
       "    <tr>\n",
       "      <th>1</th>\n",
       "      <td>NaN</td>\n",
       "      <td>NaN</td>\n",
       "      <td>NaN</td>\n",
       "      <td>1.0</td>\n",
       "      <td>NaN</td>\n",
       "      <td>NaN</td>\n",
       "      <td>NaN</td>\n",
       "      <td>NaN</td>\n",
       "      <td>NaN</td>\n",
       "      <td>NaN</td>\n",
       "      <td>...</td>\n",
       "      <td>1.0</td>\n",
       "      <td>NaN</td>\n",
       "      <td>NaN</td>\n",
       "      <td>NaN</td>\n",
       "      <td>NaN</td>\n",
       "      <td>NaN</td>\n",
       "      <td>NaN</td>\n",
       "      <td>NaN</td>\n",
       "      <td>NaN</td>\n",
       "      <td>NaN</td>\n",
       "    </tr>\n",
       "    <tr>\n",
       "      <th>2</th>\n",
       "      <td>NaN</td>\n",
       "      <td>NaN</td>\n",
       "      <td>NaN</td>\n",
       "      <td>NaN</td>\n",
       "      <td>NaN</td>\n",
       "      <td>NaN</td>\n",
       "      <td>NaN</td>\n",
       "      <td>1.0</td>\n",
       "      <td>NaN</td>\n",
       "      <td>NaN</td>\n",
       "      <td>...</td>\n",
       "      <td>NaN</td>\n",
       "      <td>NaN</td>\n",
       "      <td>1.0</td>\n",
       "      <td>NaN</td>\n",
       "      <td>NaN</td>\n",
       "      <td>NaN</td>\n",
       "      <td>NaN</td>\n",
       "      <td>NaN</td>\n",
       "      <td>NaN</td>\n",
       "      <td>NaN</td>\n",
       "    </tr>\n",
       "  </tbody>\n",
       "</table>\n",
       "<p>3 rows × 177 columns</p>\n",
       "</div>"
      ],
      "text/plain": [
       "   Chinese rice vinegar  Pillsbury™ Refrigerated Crescent Dinner Rolls  \\\n",
       "0                   NaN                                            NaN   \n",
       "1                   NaN                                            NaN   \n",
       "2                   NaN                                            NaN   \n",
       "\n",
       "   Progresso™ Chicken Broth  Tyson® frozen popcorn chicken pieces  \\\n",
       "0                       NaN                                   NaN   \n",
       "1                       NaN                                   1.0   \n",
       "2                       NaN                                   NaN   \n",
       "\n",
       "   all-purpose flour  allspice  apple cider vinegar  avocado  bacon  \\\n",
       "0                NaN       NaN                  NaN      NaN    NaN   \n",
       "1                NaN       NaN                  NaN      NaN    NaN   \n",
       "2                NaN       NaN                  NaN      1.0    NaN   \n",
       "\n",
       "   barbecue sauce    ...     tomato sauce  tomatoes  tortillas  \\\n",
       "0             NaN    ...              NaN       NaN        NaN   \n",
       "1             NaN    ...              1.0       NaN        NaN   \n",
       "2             NaN    ...              NaN       NaN        1.0   \n",
       "\n",
       "   unsalted butter  vegetable oil  water  white vinegar  wine  \\\n",
       "0              NaN            NaN    NaN            NaN   NaN   \n",
       "1              NaN            NaN    NaN            NaN   NaN   \n",
       "2              NaN            NaN    NaN            NaN   NaN   \n",
       "\n",
       "   yellow summer squash  zucchini  \n",
       "0                   NaN       NaN  \n",
       "1                   NaN       NaN  \n",
       "2                   NaN       NaN  \n",
       "\n",
       "[3 rows x 177 columns]"
      ]
     },
     "execution_count": 32,
     "metadata": {},
     "output_type": "execute_result"
    }
   ],
   "source": [
    "df_ingredients.head(3)"
   ]
  },
  {
   "cell_type": "code",
   "execution_count": 34,
   "metadata": {
    "collapsed": false
   },
   "outputs": [
    {
     "data": {
      "text/html": [
       "<div>\n",
       "<table border=\"1\" class=\"dataframe\">\n",
       "  <thead>\n",
       "    <tr style=\"text-align: right;\">\n",
       "      <th></th>\n",
       "      <th>Appetizers</th>\n",
       "      <th>Asian</th>\n",
       "      <th>Barbecue</th>\n",
       "      <th>Greek</th>\n",
       "      <th>Hawaiian</th>\n",
       "      <th>Italian</th>\n",
       "      <th>Kid-Friendly</th>\n",
       "      <th>Lunch</th>\n",
       "      <th>Main Dishes</th>\n",
       "      <th>Southern &amp; Soul Food</th>\n",
       "      <th>Southwestern</th>\n",
       "      <th>_id</th>\n",
       "    </tr>\n",
       "  </thead>\n",
       "  <tbody>\n",
       "    <tr>\n",
       "      <th>0</th>\n",
       "      <td>NaN</td>\n",
       "      <td>NaN</td>\n",
       "      <td>NaN</td>\n",
       "      <td>NaN</td>\n",
       "      <td>NaN</td>\n",
       "      <td>NaN</td>\n",
       "      <td>1.0</td>\n",
       "      <td>NaN</td>\n",
       "      <td>1.0</td>\n",
       "      <td>NaN</td>\n",
       "      <td>NaN</td>\n",
       "      <td>Pizza-Baked-Chicken-1706825</td>\n",
       "    </tr>\n",
       "    <tr>\n",
       "      <th>1</th>\n",
       "      <td>NaN</td>\n",
       "      <td>NaN</td>\n",
       "      <td>NaN</td>\n",
       "      <td>NaN</td>\n",
       "      <td>NaN</td>\n",
       "      <td>NaN</td>\n",
       "      <td>1.0</td>\n",
       "      <td>NaN</td>\n",
       "      <td>NaN</td>\n",
       "      <td>NaN</td>\n",
       "      <td>NaN</td>\n",
       "      <td>Parmesan-Chicken-Mini-Pies-685394</td>\n",
       "    </tr>\n",
       "    <tr>\n",
       "      <th>2</th>\n",
       "      <td>NaN</td>\n",
       "      <td>NaN</td>\n",
       "      <td>NaN</td>\n",
       "      <td>NaN</td>\n",
       "      <td>NaN</td>\n",
       "      <td>NaN</td>\n",
       "      <td>NaN</td>\n",
       "      <td>1.0</td>\n",
       "      <td>1.0</td>\n",
       "      <td>NaN</td>\n",
       "      <td>1.0</td>\n",
       "      <td>Chicken-and-Avocado-Burritos-1704783</td>\n",
       "    </tr>\n",
       "  </tbody>\n",
       "</table>\n",
       "</div>"
      ],
      "text/plain": [
       "   Appetizers  Asian  Barbecue  Greek  Hawaiian  Italian  Kid-Friendly  Lunch  \\\n",
       "0         NaN    NaN       NaN    NaN       NaN      NaN           1.0    NaN   \n",
       "1         NaN    NaN       NaN    NaN       NaN      NaN           1.0    NaN   \n",
       "2         NaN    NaN       NaN    NaN       NaN      NaN           NaN    1.0   \n",
       "\n",
       "   Main Dishes  Southern & Soul Food  Southwestern  \\\n",
       "0          1.0                   NaN           NaN   \n",
       "1          NaN                   NaN           NaN   \n",
       "2          1.0                   NaN           1.0   \n",
       "\n",
       "                                    _id  \n",
       "0           Pizza-Baked-Chicken-1706825  \n",
       "1     Parmesan-Chicken-Mini-Pies-685394  \n",
       "2  Chicken-and-Avocado-Burritos-1704783  "
      ]
     },
     "execution_count": 34,
     "metadata": {},
     "output_type": "execute_result"
    }
   ],
   "source": [
    "df_attributes.head(3)"
   ]
  },
  {
   "cell_type": "code",
   "execution_count": null,
   "metadata": {
    "collapsed": true
   },
   "outputs": [],
   "source": []
  }
 ],
 "metadata": {
  "kernelspec": {
   "display_name": "Python 2",
   "language": "python",
   "name": "python2"
  },
  "language_info": {
   "codemirror_mode": {
    "name": "ipython",
    "version": 2
   },
   "file_extension": ".py",
   "mimetype": "text/x-python",
   "name": "python",
   "nbconvert_exporter": "python",
   "pygments_lexer": "ipython2",
   "version": "2.7.11"
  }
 },
 "nbformat": 4,
 "nbformat_minor": 0
}
